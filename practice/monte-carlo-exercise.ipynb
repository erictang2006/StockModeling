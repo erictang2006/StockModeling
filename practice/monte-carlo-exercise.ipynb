{
 "cells": [
  {
   "cell_type": "markdown",
   "metadata": {},
   "source": [
    "# Introduction to Monte Carlo Simulation of a S&P 500-like investment"
   ]
  },
  {
   "cell_type": "markdown",
   "metadata": {},
   "source": [
    "### Starting with 10,000 and investing an additional 10,000 annually, what is the probability that you will have at least 1,000,000 after 30 years of investing in the S&P 500 etf?"
   ]
  },
  {
   "cell_type": "code",
   "execution_count": null,
   "metadata": {},
   "outputs": [],
   "source": [
    "import numpy as np\n",
    "import pandas as pd\n",
    "import matplotlib.pyplot as plt\n",
    "\n",
    "# Make plots appear in-line\n",
    "%matplotlib inline\n",
    "\n",
    "# Optional: Set up locale for currency (depends on your OS locale availability)\n",
    "import locale\n",
    "locale.setlocale(locale.LC_ALL, 'en_CA.UTF-8')"
   ]
  },
  {
   "cell_type": "markdown",
   "metadata": {},
   "source": [
    "## Simple Savings Calculator ##\n",
    "\n",
    "### Goal: ###\n",
    "- Create a function or loop that calculates how much money you’d have after 30 years if you invest $10,000 initially and add $10,000 each year, assuming a constant 7% return.\n",
    "#### Instructions ####\n",
    "\n",
    "- Start with a variable pv = 10000 for your initial principal.\n",
    "- Each year, multiply pv by (1 + interest_rate), then add another 10000.\n",
    "- Print or store the results for 30 years.\n",
    "#### Prompt: Create a loop that does the above steps and prints out each year’s ending balance. ####"
   ]
  },
  {
   "cell_type": "code",
   "execution_count": null,
   "metadata": {},
   "outputs": [],
   "source": [
    "# Step 1: Initialize variables\n",
    "# pv = 10000\n",
    "# time_horizon = 30\n",
    "# interest_rate = 0.07\n",
    "# additions = 10000\n",
    "\n",
    "# Step 2: Loop from 0 to time_horizon-1 (or use range(30)) and update your 'pv' each iteration\n",
    "\n",
    "# TODO: Your code here\n",
    "\n",
    "# Step 3: Print or display each year’s ending value\n",
    "# (Optionally, format as currency)"
   ]
  },
  {
   "cell_type": "markdown",
   "metadata": {},
   "source": [
    "## Single Random Path with Monte Carlo ##\n",
    "### Goal: ###\n",
    "- Instead of a fixed 7% return, allow each year’s return to be randomly selected from a normal distribution (with a mean of ~9% and volatility of ~18%, for instance).\n",
    "- Print the yearly returns and the resulting balance.\n",
    "### Instructions ###\n",
    "\n",
    "- Set expected_return = 0.09 and volatility = 0.18.\n",
    "- Each year, generate a random return: market_return = np.random.normal(expected_return, volatility).\n",
    "- Multiply the current principal pv by (1 + market_return) and add the annual $10,000.\n",
    "- Print out (or store) each year’s result."
   ]
  },
  {
   "cell_type": "code",
   "execution_count": null,
   "metadata": {},
   "outputs": [],
   "source": [
    "# Step 1: Choose expected_return, volatility, time_horizon (30), pv (10000), annual_investment (10000)\n",
    "# expected_return = 0.09\n",
    "# volatility = 0.18\n",
    "# time_horizon = 30\n",
    "\n",
    "# pv = 10000\n",
    "# annual_investment = 10000\n",
    "\n",
    "# Step 2: Loop over each year:\n",
    "#   - Generate a random return\n",
    "#   - Update 'pv'\n",
    "#   - Print out or store the result\n",
    "\n",
    "# TODO: Your code here\n"
   ]
  },
  {
   "cell_type": "markdown",
   "metadata": {},
   "source": [
    "## Full Monte Carlo Simulation (Multiple Runs) ##\n",
    "### Goal: ###\n",
    "- Generate N = 5000 possible 30-year investment paths.\n",
    "- Track the final amount (end of year 30) from each path.\n",
    "- Store results in a pandas.DataFrame (or any structure you prefer).\n",
    "#### Instructions ####\n",
    "\n",
    "- Create an empty DataFrame, e.g. sim = pd.DataFrame().\n",
    "- Decide on iterations = 5000.\n",
    "- For each iteration:\n",
    "  - Start pv = 10000.\n",
    "  - Loop 30 times, each time applying the random return and adding $10,000.\n",
    "  - Store each year’s ending balance in a list.\n",
    "  - Assign that list as a column in the DataFrame.\n",
    "- At the end, sim should have 5000 columns, each with 30 rows (one for each year)."
   ]
  },
  {
   "cell_type": "code",
   "execution_count": 1,
   "metadata": {},
   "outputs": [],
   "source": [
    "# Step 1: Create an empty DataFrame\n",
    "# sim = pd.DataFrame()\n",
    "\n",
    "# Step 2: Setup iterations = 5000\n",
    "\n",
    "# Step 3: For x in range(iterations):\n",
    "#   - Initialize pv, etc.\n",
    "#   - Create a list to store the path\n",
    "#   - For each year, compute new pv, append to list\n",
    "#   - At the end of the loop, assign this list to sim[x]\n",
    "\n",
    "# TODO: Your code here\n"
   ]
  },
  {
   "cell_type": "markdown",
   "metadata": {},
   "source": [
    "## Summary Statistics ##\n",
    "### Goal: ###\n",
    "- Extract the 30th row (i.e., after 30 years) from each simulation.\n",
    "- Calculate mean, standard deviation, min, max, etc.\n",
    "- Use both numpy and pandas functions.\n",
    "#### Instructions ####\n",
    "\n",
    "- The final year’s data is likely in sim.loc[29].\n",
    "- Use np.mean(), np.std(), np.min(), np.max() or the pandas .describe() method.\n",
    "- Print out the results in a nice format."
   ]
  },
  {
   "cell_type": "code",
   "execution_count": null,
   "metadata": {},
   "outputs": [],
   "source": [
    "# Step 1: Grab the final-year data\n",
    "# ending_values = sim.loc[29]\n",
    "\n",
    "# Step 2: Print out count, mean, std, min, max\n",
    "\n",
    "# TODO: Your code here\n",
    "\n",
    "# Step 3: Optionally, run ending_values.describe() for a full summary\n"
   ]
  },
  {
   "cell_type": "markdown",
   "metadata": {},
   "source": [
    "## Distribution Plot ##\n",
    "### Goal: ###\n",
    "- Visualize how the final amounts are spread out by plotting a histogram.\n",
    "#### Instructions ####\n",
    "\n",
    "- Use matplotlib’s hist function (e.g., plt.hist(ending_values, bins=100)).\n",
    "- Observe where most of the final amounts cluster."
   ]
  },
  {
   "cell_type": "code",
   "execution_count": null,
   "metadata": {},
   "outputs": [],
   "source": [
    "# Step 1: Plot a histogram of ending_values\n",
    "# TODO: Your code here\n",
    "\n",
    "# Step 2: Optionally adjust bins, add labels, etc.\n"
   ]
  },
  {
   "cell_type": "markdown",
   "metadata": {},
   "source": [
    "## Probability Estimation (Percentiles) ##\n",
    "### Goal: ###\n",
    "- Answer questions like:\n",
    "- What’s the probability of ending up with at least $1,000,000?\n",
    "- What are the 5th, 25th, and 75th percentiles of the distribution?\n",
    "#### Instructions ####\n",
    "\n",
    "- Probability that final amount is below $1,000,000:\n",
    "```\n",
    "(ending_values < 1000000).sum() / len(ending_values)\n",
    "```\n",
    "- Use np.percentile(ending_values, [5, 25, 75]) to see how the distribution is skewed.\n",
    "- Interpret the results."
   ]
  },
  {
   "cell_type": "code",
   "execution_count": 2,
   "metadata": {},
   "outputs": [],
   "source": [
    "# Step 1: Probability of final < 1,000,000\n",
    "# prob_below_1m = ?\n",
    "\n",
    "# Step 2: Compare that to 1 - prob_below_1m for final >= 1,000,000\n",
    "# ?\n",
    "\n",
    "# Step 3: Calculate percentiles\n",
    "# p_tiles = np.percentile(ending_values, [5, 25, 75])\n",
    "\n",
    "# Print or interpret the results\n"
   ]
  }
 ],
 "metadata": {
  "kernelspec": {
   "display_name": "venv",
   "language": "python",
   "name": "python3"
  },
  "language_info": {
   "codemirror_mode": {
    "name": "ipython",
    "version": 3
   },
   "file_extension": ".py",
   "mimetype": "text/x-python",
   "name": "python",
   "nbconvert_exporter": "python",
   "pygments_lexer": "ipython3",
   "version": "3.11.4"
  }
 },
 "nbformat": 4,
 "nbformat_minor": 2
}
